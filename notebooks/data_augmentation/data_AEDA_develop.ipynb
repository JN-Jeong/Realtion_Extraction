{
 "cells": [
  {
   "cell_type": "code",
   "execution_count": 1,
   "id": "456d1953",
   "metadata": {},
   "outputs": [
    {
     "data": {
      "text/plain": [
       "'\\n!pip install konlpy\\n!pip install koeda\\n!pip install matplotlib\\n!pip install seaborn\\n'"
      ]
     },
     "execution_count": 1,
     "metadata": {},
     "output_type": "execute_result"
    }
   ],
   "source": [
    "'''\n",
    "!pip install konlpy\n",
    "!pip install koeda\n",
    "!pip install matplotlib\n",
    "!pip install seaborn\n",
    "'''"
   ]
  },
  {
   "cell_type": "code",
   "execution_count": 2,
   "id": "185b14e9",
   "metadata": {},
   "outputs": [
    {
     "data": {
      "text/plain": [
       "'\\nfrom koeda import AEDA\\n\\naeda = AEDA(\\n    morpheme_analyzer=\"Okt\", punc_ratio=0.3, punctuations=[\".\", \",\", \"!\", \"?\", \";\", \":\"]\\n)\\n\\ntext = \"어머니가 집을 나가신다\"\\n\\nresult = aeda(text)\\nprint(result)\\n'"
      ]
     },
     "execution_count": 2,
     "metadata": {},
     "output_type": "execute_result"
    }
   ],
   "source": [
    "# AEDA 사용방법\n",
    "'''\n",
    "from koeda import AEDA\n",
    "\n",
    "aeda = AEDA(\n",
    "    morpheme_analyzer=\"Okt\", punc_ratio=0.3, punctuations=[\".\", \",\", \"!\", \"?\", \";\", \":\"]\n",
    ")\n",
    "\n",
    "text = \"어머니가 집을 나가신다\"\n",
    "\n",
    "result = aeda(text)\n",
    "print(result)\n",
    "'''"
   ]
  },
  {
   "cell_type": "code",
   "execution_count": 3,
   "id": "76bf0b2e",
   "metadata": {},
   "outputs": [],
   "source": [
    "import pandas as pd\n",
    "import matplotlib.pyplot as plt\n",
    "import seaborn as sns\n",
    "from koeda import AEDA"
   ]
  },
  {
   "cell_type": "code",
   "execution_count": 4,
   "id": "0b4370d6",
   "metadata": {},
   "outputs": [],
   "source": [
    "train = pd.read_csv(\"./train.csv\")"
   ]
  },
  {
   "cell_type": "markdown",
   "id": "4dfd3bab",
   "metadata": {},
   "source": [
    "#### ver1,2 만들 때는 중복데이터 삭제하는 거 까먹음\n",
    "### 중복 데이터 제거"
   ]
  },
  {
   "cell_type": "code",
   "execution_count": 5,
   "id": "2cfec650",
   "metadata": {},
   "outputs": [
    {
     "data": {
      "text/html": [
       "<div>\n",
       "<style scoped>\n",
       "    .dataframe tbody tr th:only-of-type {\n",
       "        vertical-align: middle;\n",
       "    }\n",
       "\n",
       "    .dataframe tbody tr th {\n",
       "        vertical-align: top;\n",
       "    }\n",
       "\n",
       "    .dataframe thead th {\n",
       "        text-align: right;\n",
       "    }\n",
       "</style>\n",
       "<table border=\"1\" class=\"dataframe\">\n",
       "  <thead>\n",
       "    <tr style=\"text-align: right;\">\n",
       "      <th></th>\n",
       "      <th>id</th>\n",
       "      <th>sentence</th>\n",
       "      <th>subject_entity</th>\n",
       "      <th>object_entity</th>\n",
       "      <th>label</th>\n",
       "      <th>source</th>\n",
       "    </tr>\n",
       "  </thead>\n",
       "  <tbody>\n",
       "    <tr>\n",
       "      <th>0</th>\n",
       "      <td>0</td>\n",
       "      <td>〈Something〉는 조지 해리슨이 쓰고 비틀즈가 1969년 앨범 《Abbey R...</td>\n",
       "      <td>{'word': '비틀즈', 'start_idx': 24, 'end_idx': 26...</td>\n",
       "      <td>{'word': '조지 해리슨', 'start_idx': 13, 'end_idx':...</td>\n",
       "      <td>no_relation</td>\n",
       "      <td>wikipedia</td>\n",
       "    </tr>\n",
       "    <tr>\n",
       "      <th>1</th>\n",
       "      <td>1</td>\n",
       "      <td>호남이 기반인 바른미래당·대안신당·민주평화당이 우여곡절 끝에 합당해 민생당(가칭)으...</td>\n",
       "      <td>{'word': '민주평화당', 'start_idx': 19, 'end_idx': ...</td>\n",
       "      <td>{'word': '대안신당', 'start_idx': 14, 'end_idx': 1...</td>\n",
       "      <td>no_relation</td>\n",
       "      <td>wikitree</td>\n",
       "    </tr>\n",
       "    <tr>\n",
       "      <th>2</th>\n",
       "      <td>2</td>\n",
       "      <td>K리그2에서 성적 1위를 달리고 있는 광주FC는 지난 26일 한국프로축구연맹으로부터...</td>\n",
       "      <td>{'word': '광주FC', 'start_idx': 21, 'end_idx': 2...</td>\n",
       "      <td>{'word': '한국프로축구연맹', 'start_idx': 34, 'end_idx...</td>\n",
       "      <td>org:member_of</td>\n",
       "      <td>wikitree</td>\n",
       "    </tr>\n",
       "    <tr>\n",
       "      <th>3</th>\n",
       "      <td>3</td>\n",
       "      <td>균일가 생활용품점 (주)아성다이소(대표 박정부)는 코로나19 바이러스로 어려움을 겪...</td>\n",
       "      <td>{'word': '아성다이소', 'start_idx': 13, 'end_idx': ...</td>\n",
       "      <td>{'word': '박정부', 'start_idx': 22, 'end_idx': 24...</td>\n",
       "      <td>org:top_members/employees</td>\n",
       "      <td>wikitree</td>\n",
       "    </tr>\n",
       "    <tr>\n",
       "      <th>4</th>\n",
       "      <td>4</td>\n",
       "      <td>1967년 프로 야구 드래프트 1순위로 요미우리 자이언츠에게 입단하면서 등번호는 8...</td>\n",
       "      <td>{'word': '요미우리 자이언츠', 'start_idx': 22, 'end_id...</td>\n",
       "      <td>{'word': '1967', 'start_idx': 0, 'end_idx': 3,...</td>\n",
       "      <td>no_relation</td>\n",
       "      <td>wikipedia</td>\n",
       "    </tr>\n",
       "    <tr>\n",
       "      <th>...</th>\n",
       "      <td>...</td>\n",
       "      <td>...</td>\n",
       "      <td>...</td>\n",
       "      <td>...</td>\n",
       "      <td>...</td>\n",
       "      <td>...</td>\n",
       "    </tr>\n",
       "    <tr>\n",
       "      <th>32418</th>\n",
       "      <td>32465</td>\n",
       "      <td>한국당은 7일 오전 9시부터 오후 5시까지 진행된 원내대표 및 정책위의장 후보자 등...</td>\n",
       "      <td>{'word': '유기준', 'start_idx': 93, 'end_idx': 95...</td>\n",
       "      <td>{'word': '부산 서구·동구', 'start_idx': 100, 'end_id...</td>\n",
       "      <td>per:employee_of</td>\n",
       "      <td>wikitree</td>\n",
       "    </tr>\n",
       "    <tr>\n",
       "      <th>32419</th>\n",
       "      <td>32466</td>\n",
       "      <td>법포는 다시 최시형, 서병학, 손병희 직계인 북접과 다시 서장옥, 전봉준, 김개남을...</td>\n",
       "      <td>{'word': '최시형', 'start_idx': 7, 'end_idx': 9, ...</td>\n",
       "      <td>{'word': '손병희', 'start_idx': 17, 'end_idx': 19...</td>\n",
       "      <td>per:colleagues</td>\n",
       "      <td>wikipedia</td>\n",
       "    </tr>\n",
       "    <tr>\n",
       "      <th>32420</th>\n",
       "      <td>32467</td>\n",
       "      <td>완도군(군수 신우철)이 국토교통부에서 실시한 '2019 교통문화지수 실태조사'에서 ...</td>\n",
       "      <td>{'word': '완도군', 'start_idx': 0, 'end_idx': 2, ...</td>\n",
       "      <td>{'word': '신우철', 'start_idx': 7, 'end_idx': 9, ...</td>\n",
       "      <td>org:top_members/employees</td>\n",
       "      <td>wikitree</td>\n",
       "    </tr>\n",
       "    <tr>\n",
       "      <th>32421</th>\n",
       "      <td>32468</td>\n",
       "      <td>중앙일보, JTBC 회장을 지낸 이후 중앙홀딩스 회장, 재단법인 한반도평화만들기 이...</td>\n",
       "      <td>{'word': 'JTBC', 'start_idx': 6, 'end_idx': 9,...</td>\n",
       "      <td>{'word': '중앙홀딩스', 'start_idx': 21, 'end_idx': ...</td>\n",
       "      <td>no_relation</td>\n",
       "      <td>wikipedia</td>\n",
       "    </tr>\n",
       "    <tr>\n",
       "      <th>32422</th>\n",
       "      <td>32469</td>\n",
       "      <td>화순군(군수 구충곤)은 17일 동면의 이장 20여 명이 코로나 19 예방을 위해 버...</td>\n",
       "      <td>{'word': '화순군', 'start_idx': 0, 'end_idx': 2, ...</td>\n",
       "      <td>{'word': '구충곤', 'start_idx': 7, 'end_idx': 9, ...</td>\n",
       "      <td>org:top_members/employees</td>\n",
       "      <td>wikitree</td>\n",
       "    </tr>\n",
       "  </tbody>\n",
       "</table>\n",
       "<p>32423 rows × 6 columns</p>\n",
       "</div>"
      ],
      "text/plain": [
       "          id                                           sentence  \\\n",
       "0          0  〈Something〉는 조지 해리슨이 쓰고 비틀즈가 1969년 앨범 《Abbey R...   \n",
       "1          1  호남이 기반인 바른미래당·대안신당·민주평화당이 우여곡절 끝에 합당해 민생당(가칭)으...   \n",
       "2          2  K리그2에서 성적 1위를 달리고 있는 광주FC는 지난 26일 한국프로축구연맹으로부터...   \n",
       "3          3  균일가 생활용품점 (주)아성다이소(대표 박정부)는 코로나19 바이러스로 어려움을 겪...   \n",
       "4          4  1967년 프로 야구 드래프트 1순위로 요미우리 자이언츠에게 입단하면서 등번호는 8...   \n",
       "...      ...                                                ...   \n",
       "32418  32465  한국당은 7일 오전 9시부터 오후 5시까지 진행된 원내대표 및 정책위의장 후보자 등...   \n",
       "32419  32466  법포는 다시 최시형, 서병학, 손병희 직계인 북접과 다시 서장옥, 전봉준, 김개남을...   \n",
       "32420  32467  완도군(군수 신우철)이 국토교통부에서 실시한 '2019 교통문화지수 실태조사'에서 ...   \n",
       "32421  32468  중앙일보, JTBC 회장을 지낸 이후 중앙홀딩스 회장, 재단법인 한반도평화만들기 이...   \n",
       "32422  32469  화순군(군수 구충곤)은 17일 동면의 이장 20여 명이 코로나 19 예방을 위해 버...   \n",
       "\n",
       "                                          subject_entity  \\\n",
       "0      {'word': '비틀즈', 'start_idx': 24, 'end_idx': 26...   \n",
       "1      {'word': '민주평화당', 'start_idx': 19, 'end_idx': ...   \n",
       "2      {'word': '광주FC', 'start_idx': 21, 'end_idx': 2...   \n",
       "3      {'word': '아성다이소', 'start_idx': 13, 'end_idx': ...   \n",
       "4      {'word': '요미우리 자이언츠', 'start_idx': 22, 'end_id...   \n",
       "...                                                  ...   \n",
       "32418  {'word': '유기준', 'start_idx': 93, 'end_idx': 95...   \n",
       "32419  {'word': '최시형', 'start_idx': 7, 'end_idx': 9, ...   \n",
       "32420  {'word': '완도군', 'start_idx': 0, 'end_idx': 2, ...   \n",
       "32421  {'word': 'JTBC', 'start_idx': 6, 'end_idx': 9,...   \n",
       "32422  {'word': '화순군', 'start_idx': 0, 'end_idx': 2, ...   \n",
       "\n",
       "                                           object_entity  \\\n",
       "0      {'word': '조지 해리슨', 'start_idx': 13, 'end_idx':...   \n",
       "1      {'word': '대안신당', 'start_idx': 14, 'end_idx': 1...   \n",
       "2      {'word': '한국프로축구연맹', 'start_idx': 34, 'end_idx...   \n",
       "3      {'word': '박정부', 'start_idx': 22, 'end_idx': 24...   \n",
       "4      {'word': '1967', 'start_idx': 0, 'end_idx': 3,...   \n",
       "...                                                  ...   \n",
       "32418  {'word': '부산 서구·동구', 'start_idx': 100, 'end_id...   \n",
       "32419  {'word': '손병희', 'start_idx': 17, 'end_idx': 19...   \n",
       "32420  {'word': '신우철', 'start_idx': 7, 'end_idx': 9, ...   \n",
       "32421  {'word': '중앙홀딩스', 'start_idx': 21, 'end_idx': ...   \n",
       "32422  {'word': '구충곤', 'start_idx': 7, 'end_idx': 9, ...   \n",
       "\n",
       "                           label     source  \n",
       "0                    no_relation  wikipedia  \n",
       "1                    no_relation   wikitree  \n",
       "2                  org:member_of   wikitree  \n",
       "3      org:top_members/employees   wikitree  \n",
       "4                    no_relation  wikipedia  \n",
       "...                          ...        ...  \n",
       "32418            per:employee_of   wikitree  \n",
       "32419             per:colleagues  wikipedia  \n",
       "32420  org:top_members/employees   wikitree  \n",
       "32421                no_relation  wikipedia  \n",
       "32422  org:top_members/employees   wikitree  \n",
       "\n",
       "[32423 rows x 6 columns]"
      ]
     },
     "execution_count": 5,
     "metadata": {},
     "output_type": "execute_result"
    }
   ],
   "source": [
    "train_is_duplicated = train.duplicated(subset=[\"sentence\", \"subject_entity\", \"object_entity\"], keep=False)\n",
    "df_duplicated = train.loc[train_is_duplicated, :]\n",
    "df_duplicated.sort_values(by=[\"sentence\"])\n",
    "train_drop= train.drop_duplicates(subset=[\"sentence\", \"subject_entity\", \"object_entity\"]).reset_index(drop=True)\n",
    "train_drop"
   ]
  },
  {
   "cell_type": "markdown",
   "id": "7633733a",
   "metadata": {},
   "source": [
    "### 각 라벨 별로 문장의 개수 정보 저장"
   ]
  },
  {
   "cell_type": "markdown",
   "id": "21f127d3",
   "metadata": {},
   "source": [
    "AEDA를 할 때 고려해야할 점:\n",
    "1. 만약 entity 자리에 문장 기호가 들어간다면 정확도가 낮아지지 않을까?\n",
    "2. per:place_of_death는 40개, no_relation은 9516개로 편차가 큰데 몇 개를 기준으로 증강해야 할까?\n",
    "\n",
    "=> 데이터가 정말 부족한 하위 다섯개만 증강"
   ]
  },
  {
   "cell_type": "code",
   "execution_count": 6,
   "id": "d5fb7f35",
   "metadata": {},
   "outputs": [
    {
     "name": "stdout",
     "output_type": "stream",
     "text": [
      "defaultdict(<class 'int'>, {'no_relation': 9516, 'org:member_of': 1864, 'org:top_members/employees': 4278, 'org:alternate_names': 1318, 'per:date_of_birth': 1130, 'org:place_of_headquarters': 1194, 'per:employee_of': 3567, 'per:origin': 1234, 'per:title': 2098, 'org:members': 420, 'per:schools_attended': 82, 'per:colleagues': 534, 'per:alternate_names': 997, 'per:spouse': 795, 'org:founded_by': 155, 'org:political/religious_affiliation': 98, 'per:children': 304, 'org:founded': 450, 'org:number_of_employees/members': 48, 'per:place_of_birth': 166, 'org:dissolved': 66, 'per:parents': 518, 'per:religion': 96, 'per:date_of_death': 417, 'per:place_of_residence': 193, 'per:other_family': 190, 'org:product': 380, 'per:siblings': 136, 'per:product': 139, 'per:place_of_death': 40})\n"
     ]
    }
   ],
   "source": [
    "from collections import defaultdict\n",
    "label_num = defaultdict(int)\n",
    "idx_1 = [] # \"per:place_of_death\" # \"org:number_of_employees/members\"\n",
    "idx_2 = [] # 'org:dissolved' # 'per:schools_attended'\n",
    "idx_3 = [] # 'per:religion' # 'org:political/religious_affiliation'\n",
    "idx_4 = [] # 'per:siblings' # 'per:product'  #'org:founded_by' #'per:place_of_birth'\n",
    "idx_5 = [] # 'per:other_family' #'per:place_of_residence'\n",
    "\n",
    "for i in range(32423):\n",
    "    label_num[train_drop['label'][i]] += 1\n",
    "    if train_drop['label'][i] == \"per:place_of_death\" or train_drop['label'][i] == \"org:number_of_employees/members\":\n",
    "        # 40개\n",
    "        idx_1.append(i)\n",
    "    elif train_drop['label'][i] == 'org:dissolved' or train_drop['label'][i] == 'per:schools_attended':\n",
    "        # 60~80개\n",
    "        idx_2.append(i)\n",
    "    elif train_drop['label'][i] == 'per:religion' or train_drop['label'][i] == 'org:political/religious_affiliation':\n",
    "        # 90개\n",
    "        idx_3.append(i)\n",
    "    elif train_drop['label'][i] == 'per:siblings' or train_drop['label'][i] == 'per:product' or train_drop['label'][i] == 'org:founded_by' or train_drop['label'][i] == 'per:place_of_birth':\n",
    "        # 130 ~160개\n",
    "        idx_4.append(i)\n",
    "    elif train_drop['label'][i] == 'per:other_family' or train_drop['label'][i] == 'per:place_of_residence':\n",
    "        # 190개\n",
    "        idx_5.append(i)\n",
    "    \n",
    "print(label_num)"
   ]
  },
  {
   "cell_type": "code",
   "execution_count": null,
   "id": "ea069e56",
   "metadata": {},
   "outputs": [
    {
     "name": "stderr",
     "output_type": "stream",
     "text": [
      "C:\\Users\\2jeon\\AppData\\Local\\Temp\\ipykernel_22712\\110780002.py:8: SettingWithCopyWarning: \n",
      "A value is trying to be set on a copy of a slice from a DataFrame\n",
      "\n",
      "See the caveats in the documentation: https://pandas.pydata.org/pandas-docs/stable/user_guide/indexing.html#returning-a-view-versus-a-copy\n",
      "  train_1['sentence'][i] = aeda(train_1['sentence'][i])\n"
     ]
    }
   ],
   "source": [
    "train_1 = train_drop.iloc[idx_1]\n",
    "aeda = AEDA(\n",
    "            morpheme_analyzer=\"Okt\",\n",
    "            punc_ratio=0.3,\n",
    "            punctuations=[\".\", \",\", \"!\", \"?\", \";\", \":\"],\n",
    "        )\n",
    "for i in idx_1+idx_1+idx_1:\n",
    "    train_1['sentence'][i] = aeda(train_1['sentence'][i])\n",
    "    #train_1['aeda_sentence'] = train_1['sentence'].apply(lambda x: aeda(x))\n",
    "\n",
    "#train_1\n",
    "\n",
    "# *****************************************************************#\n",
    "train_2 = train_drop.iloc[idx_2]\n",
    "\n",
    "for i in idx_2+idx_2:\n",
    "    train_2['sentence'][i] = aeda(train_2['sentence'][i])\n",
    "\n",
    "#train_2\n",
    "# *****************************************************************#\n"
   ]
  },
  {
   "cell_type": "code",
   "execution_count": null,
   "id": "904f755f",
   "metadata": {},
   "outputs": [],
   "source": [
    "train_3 = train_drop.iloc[idx_3]\n",
    "\n",
    "for i in idx_3+idx_3:\n",
    "    train_3['sentence'][i] = aeda(train_3['sentence'][i])\n",
    "\n",
    "#train_3\n",
    "# *****************************************************************#\n",
    "train_4 = train_drop.iloc[idx_4]\n",
    "\n",
    "for i in idx_4:\n",
    "    train_4['sentence'][i] = aeda(train_4['sentence'][i])\n",
    "\n",
    "#train_4\n",
    "# *****************************************************************#\n"
   ]
  },
  {
   "cell_type": "code",
   "execution_count": null,
   "id": "50d29ff1",
   "metadata": {},
   "outputs": [],
   "source": [
    "train_5 = train_drop.iloc[idx_5]\n",
    "\n",
    "for i in idx_5:\n",
    "    train_5['sentence'][i] = aeda(train_5['sentence'][i])\n",
    "\n",
    "#train_5"
   ]
  },
  {
   "cell_type": "code",
   "execution_count": null,
   "id": "369cfba2",
   "metadata": {},
   "outputs": [],
   "source": [
    "tmp = pd.concat([train_1, train_2,train_3,train_4,train_5, train_6, train_7])\n",
    "print(tmp.shape)\n",
    "# 32423 + 332 = 32755"
   ]
  },
  {
   "cell_type": "code",
   "execution_count": null,
   "id": "4ef65d86",
   "metadata": {},
   "outputs": [],
   "source": [
    "fig, ax = plt.subplots(1,1, figsize=(10,10))\n",
    "ax = sns.countplot(y='label', data= tmp, palette = sns.color_palette(\"pastel\"), \n",
    "                    order = tmp['label'].value_counts().index, ax=ax)\n",
    "for p in ax.patches:\n",
    "    ax.annotate(f'{p.get_width()}', (p.get_x() + p.get_width(), p.get_y() + 0.6), fontsize=10)\n",
    "plt.title(\"Relation label countplot\")\n",
    "plt.show()"
   ]
  },
  {
   "cell_type": "code",
   "execution_count": null,
   "id": "92cbda2f",
   "metadata": {},
   "outputs": [],
   "source": [
    "result = pd.concat([train_drop, train_1, train_2,train_3,train_4,train_5])\n",
    "result"
   ]
  },
  {
   "cell_type": "code",
   "execution_count": null,
   "id": "0a7a90cf",
   "metadata": {},
   "outputs": [],
   "source": [
    "fig, ax = plt.subplots(1,1, figsize=(10,10))\n",
    "ax = sns.countplot(y='label', data=result, palette = sns.color_palette(\"pastel\"), \n",
    "                    order = result['label'].value_counts().index, ax=ax)\n",
    "for p in ax.patches:\n",
    "    ax.annotate(f'{p.get_width()}', (p.get_x() + p.get_width(), p.get_y() + 0.6), fontsize=10)\n",
    "plt.title(\"Relation label countplot\")\n",
    "plt.show()"
   ]
  },
  {
   "cell_type": "code",
   "execution_count": null,
   "id": "915a02c0",
   "metadata": {},
   "outputs": [],
   "source": [
    "result.to_csv('./train_aug_ver4.csv', index=False)"
   ]
  },
  {
   "cell_type": "markdown",
   "id": "df73e1b0",
   "metadata": {},
   "source": [
    "### entity에 문자 들어간 거 필터링 \n",
    "str.find(subject/object_entity) 리턴값이 -1일 경우 삭제"
   ]
  },
  {
   "cell_type": "code",
   "execution_count": null,
   "id": "c169a44a",
   "metadata": {},
   "outputs": [],
   "source": [
    "i = 1\n",
    "\n",
    "sentence = result['sentence'][i]\n",
    "print(sentence)\n",
    "\n",
    "#{'word': '대성여자중학교', 'start_idx' \n",
    "idx1 = result['subject_entity'][i].find('word')\n",
    "idx2 = result['subject_entity'][i].find('start_idx')\n",
    "print(sentence[idx+5: start_idx-4])"
   ]
  }
 ],
 "metadata": {
  "kernelspec": {
   "display_name": "Python 3 (ipykernel)",
   "language": "python",
   "name": "python3"
  },
  "language_info": {
   "codemirror_mode": {
    "name": "ipython",
    "version": 3
   },
   "file_extension": ".py",
   "mimetype": "text/x-python",
   "name": "python",
   "nbconvert_exporter": "python",
   "pygments_lexer": "ipython3",
   "version": "3.9.12"
  }
 },
 "nbformat": 4,
 "nbformat_minor": 5
}

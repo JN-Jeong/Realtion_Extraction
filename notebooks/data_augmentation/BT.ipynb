{
 "cells": [
  {
   "cell_type": "code",
   "execution_count": 1,
   "id": "e28ae5ab",
   "metadata": {},
   "outputs": [],
   "source": [
    "# 참고: https://codechacha.com/ko/python-google-translate/\n",
    "\n",
    "#!pip install googletrans\n",
    "#!pip install --upgrade google-cloud-speech\n",
    "#!pip install google-cloud-language"
   ]
  },
  {
   "cell_type": "code",
   "execution_count": null,
   "id": "b4b4b7bf",
   "metadata": {},
   "outputs": [],
   "source": [
    "!pip uninstall googletrans"
   ]
  },
  {
   "cell_type": "code",
   "execution_count": null,
   "id": "eb6f0943",
   "metadata": {},
   "outputs": [],
   "source": [
    "!pip install googletrans==3.1.0a0 "
   ]
  },
  {
   "cell_type": "code",
   "execution_count": null,
   "id": "ef0408ec",
   "metadata": {},
   "outputs": [],
   "source": [
    "# Import Library\n",
    "\n",
    "# For Data Analysis\n",
    "import os\n",
    "import numpy as np                 \n",
    "import pandas as pd      \n",
    "import numpy as np\n",
    "import re\n",
    "from googletrans import Translator"
   ]
  },
  {
   "cell_type": "code",
   "execution_count": null,
   "id": "3a4d912b",
   "metadata": {},
   "outputs": [],
   "source": [
    "train = pd.read_csv(\"./train.csv\")\n",
    "train_is_duplicated = train.duplicated(subset=[\"sentence\", \"subject_entity\", \"object_entity\"], keep=False)\n",
    "df_duplicated = train.loc[train_is_duplicated, :]\n",
    "df_duplicated.sort_values(by=[\"sentence\"])\n",
    "train_df= train.drop_duplicates(subset=[\"sentence\", \"subject_entity\", \"object_entity\"]).reset_index(drop=True)\n",
    "train_df"
   ]
  },
  {
   "cell_type": "code",
   "execution_count": null,
   "id": "ef856466",
   "metadata": {},
   "outputs": [],
   "source": [
    "translator = Translator()\n",
    "result = translator.translate('안녕하세요.', dest=\"ja\")\n",
    "print(result.text)"
   ]
  },
  {
   "cell_type": "code",
   "execution_count": null,
   "id": "e119a755",
   "metadata": {},
   "outputs": [],
   "source": [
    "train_df.iloc[0]['sentence']"
   ]
  },
  {
   "cell_type": "code",
   "execution_count": null,
   "id": "5e03dfcb",
   "metadata": {},
   "outputs": [],
   "source": [
    "ko_src = train_df.iloc[0]['sentence']\n",
    "\n",
    "translator = Translator()\n",
    "result = translator.translate(\"안녕하세요\", dest='en')\n",
    "en_src = result[0].text\n",
    "print(en_src)"
   ]
  }
 ],
 "metadata": {
  "kernelspec": {
   "display_name": "Python 3 (ipykernel)",
   "language": "python",
   "name": "python3"
  },
  "language_info": {
   "codemirror_mode": {
    "name": "ipython",
    "version": 3
   },
   "file_extension": ".py",
   "mimetype": "text/x-python",
   "name": "python",
   "nbconvert_exporter": "python",
   "pygments_lexer": "ipython3",
   "version": "3.9.12"
  }
 },
 "nbformat": 4,
 "nbformat_minor": 5
}
